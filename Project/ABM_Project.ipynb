{
 "cells": [
  {
   "cell_type": "markdown",
   "metadata": {},
   "source": [
    "# Agent-Based Modelling\n",
    "\n",
    "### _Shreya Raghavendra (13756877), Boyan Mihaylov (15067602), Eline van de Lagemaat (11892900), Sofia Tavitian (14824248), Chayenne Olumuyiwa (12055662)_"
   ]
  },
  {
   "cell_type": "code",
   "execution_count": 3,
   "metadata": {},
   "outputs": [],
   "source": [
    "import numpy as np\n",
    "from importlib import reload\n",
    "\n",
    "import model as mdl\n",
    "import agent as agt\n",
    "import visualisation as vis"
   ]
  },
  {
   "cell_type": "code",
   "execution_count": null,
   "metadata": {},
   "outputs": [],
   "source": [
    "reload(mdl)\n",
    "reload(agt)"
   ]
  },
  {
   "cell_type": "code",
   "execution_count": null,
   "metadata": {},
   "outputs": [],
   "source": [
    "width = 10\n",
    "height = 10\n",
    "n_init_trees = 10\n",
    "n_init_fungi = 10\n",
    "model = mdl.Forest(width, height, n_init_trees, n_init_fungi)\n",
    "model.run_model()"
   ]
  },
  {
   "cell_type": "code",
   "execution_count": 5,
   "metadata": {},
   "outputs": [
    {
     "name": "stderr",
     "output_type": "stream",
     "text": [
      "Component react.component(mesa.experimental.jupyter_viz.JupyterViz) raised exception TypeError('object.__new__(X): X is not a type object (Forest)')\n",
      "Traceback (most recent call last):\n",
      "  File \"c:\\Users\\mihbo\\anaconda3\\lib\\site-packages\\reacton\\core.py\", line 1707, in _render\n",
      "    root_element = el.component.f(*el.args, **el.kwargs)\n",
      "  File \"c:\\Users\\mihbo\\anaconda3\\lib\\site-packages\\mesa\\experimental\\jupyter_viz.py\", line 99, in JupyterViz\n",
      "    model = solara.use_memo(\n",
      "  File \"c:\\Users\\mihbo\\anaconda3\\lib\\site-packages\\reacton\\core.py\", line 879, in use_memo\n",
      "    return rc.use_memo(f, dependencies, debug_name)\n",
      "  File \"c:\\Users\\mihbo\\anaconda3\\lib\\site-packages\\reacton\\core.py\", line 1244, in use_memo\n",
      "    value = f()\n",
      "  File \"c:\\Users\\mihbo\\anaconda3\\lib\\site-packages\\mesa\\experimental\\jupyter_viz.py\", line 91, in make_model\n",
      "    model = model_class.__new__(\n",
      "  File \"c:\\Users\\mihbo\\anaconda3\\lib\\site-packages\\mesa\\model.py\", line 54, in __new__\n",
      "    obj = object.__new__(cls)\n",
      "TypeError: object.__new__(X): X is not a type object (Forest)\n"
     ]
    },
    {
     "data": {
      "application/vnd.jupyter.widget-view+json": {
       "model_id": "4af5f26070994f3c872aaf58e867fb41",
       "version_major": 2,
       "version_minor": 0
      },
      "text/html": [
       "Cannot show widget. You probably want to rerun the code cell above (<i>Click in the code cell, and press Shift+Enter <kbd>⇧</kbd>+<kbd>↩</kbd></i>)."
      ],
      "text/plain": [
       "Cannot show ipywidgets in text"
      ]
     },
     "metadata": {},
     "output_type": "display_data"
    }
   ],
   "source": [
    "model_params = {\n",
    "    \"n_init_trees\": {\n",
    "        \"type\": \"SliderInt\",\n",
    "        \"value\": 50,\n",
    "        \"label\": \"Number of agents:\",\n",
    "        \"min\": 10,\n",
    "        \"max\": 100,\n",
    "        \"step\": 1,\n",
    "    },\n",
    "    \"n_init_fungi\": {\n",
    "        \"type\": \"SliderInt\",\n",
    "        \"value\": 50,\n",
    "        \"label\": \"Number of agents:\",\n",
    "        \"min\": 10,\n",
    "        \"max\": 100,\n",
    "        \"step\": 1,\n",
    "    },\n",
    "    \"width\": 10,\n",
    "    \"height\": 10,\n",
    "}\n",
    "\n",
    "vis.create_jupyter_viz(model, model_params, measures=\"Trees\")"
   ]
  }
 ],
 "metadata": {
  "kernelspec": {
   "display_name": "base",
   "language": "python",
   "name": "python3"
  },
  "language_info": {
   "codemirror_mode": {
    "name": "ipython",
    "version": 3
   },
   "file_extension": ".py",
   "mimetype": "text/x-python",
   "name": "python",
   "nbconvert_exporter": "python",
   "pygments_lexer": "ipython3",
   "version": "3.10.14"
  }
 },
 "nbformat": 4,
 "nbformat_minor": 2
}
