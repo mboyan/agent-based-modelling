{
 "cells": [
  {
   "cell_type": "markdown",
   "metadata": {},
   "source": [
    "# Agent-Based Modelling\n",
    "\n",
    "### _Shreya Raghavendra (13756877), Boyan Mihaylov (15067602), Eline van de Lagemaat (11892900), Sofia Tavitian (14824248), Chayenne Olumuyiwa (12055662)_"
   ]
  },
  {
   "cell_type": "code",
   "execution_count": 68,
   "metadata": {},
   "outputs": [],
   "source": [
    "import numpy as np\n",
    "import matplotlib.pyplot as plt\n",
    "from importlib import reload\n",
    "\n",
    "import model as mdl\n",
    "import agent as agt\n",
    "import visualisation as vis"
   ]
  },
  {
   "cell_type": "code",
   "execution_count": 69,
   "metadata": {},
   "outputs": [],
   "source": [
    "import warnings\n",
    "warnings.filterwarnings(\"ignore\")"
   ]
  },
  {
   "cell_type": "code",
   "execution_count": 87,
   "metadata": {},
   "outputs": [
    {
     "data": {
      "text/plain": [
       "<module 'visualisation' from '/Users/chayenneolumuyiwa/Documents/Universiteit/Computational Science/jaar 1 /ABM/agent-based-modelling/Project/visualisation.py'>"
      ]
     },
     "execution_count": 87,
     "metadata": {},
     "output_type": "execute_result"
    }
   ],
   "source": [
    "reload(mdl)\n",
    "reload(agt)\n",
    "reload(vis)\n",
    "\n",
    "reload(mdl)\n",
    "reload(agt)\n",
    "reload(vis)"
   ]
  },
  {
   "cell_type": "code",
   "execution_count": 88,
   "metadata": {},
   "outputs": [
    {
     "ename": "ValueError",
     "evalue": "The truth value of an array with more than one element is ambiguous. Use a.any() or a.all()",
     "output_type": "error",
     "traceback": [
      "\u001b[0;31m---------------------------------------------------------------------------\u001b[0m",
      "\u001b[0;31mValueError\u001b[0m                                Traceback (most recent call last)",
      "Cell \u001b[0;32mIn[88], line 9\u001b[0m\n\u001b[1;32m      7\u001b[0m harvest_params \u001b[38;5;241m=\u001b[39m [\u001b[38;5;241m100\u001b[39m,\u001b[38;5;241m0\u001b[39m,\u001b[38;5;241m1\u001b[39m]\n\u001b[1;32m      8\u001b[0m model \u001b[38;5;241m=\u001b[39m mdl\u001b[38;5;241m.\u001b[39mForest(width, height, n_init_trees, n_init_fungi, harvest_params)\n\u001b[0;32m----> 9\u001b[0m model\u001b[38;5;241m.\u001b[39mrun_model(n_steps\u001b[38;5;241m=\u001b[39m\u001b[38;5;241m100\u001b[39m)\n\u001b[1;32m     11\u001b[0m vis\u001b[38;5;241m.\u001b[39mplot_property_layer(model, \u001b[38;5;124m\"\u001b[39m\u001b[38;5;124msoil_fertility\u001b[39m\u001b[38;5;124m\"\u001b[39m)\n\u001b[1;32m     13\u001b[0m data \u001b[38;5;241m=\u001b[39m model\u001b[38;5;241m.\u001b[39mdatacollector\u001b[38;5;241m.\u001b[39mget_model_vars_dataframe()\n",
      "File \u001b[0;32m~/Documents/Universiteit/Computational Science/jaar 1 /ABM/agent-based-modelling/Project/model.py:238\u001b[0m, in \u001b[0;36mForest.run_model\u001b[0;34m(self, n_steps)\u001b[0m\n\u001b[1;32m    234\u001b[0m \u001b[38;5;250m\u001b[39m\u001b[38;5;124;03m\"\"\"\u001b[39;00m\n\u001b[1;32m    235\u001b[0m \u001b[38;5;124;03mMethod that runs the model for a given number of steps.\u001b[39;00m\n\u001b[1;32m    236\u001b[0m \u001b[38;5;124;03m\"\"\"\u001b[39;00m\n\u001b[1;32m    237\u001b[0m \u001b[38;5;28;01mfor\u001b[39;00m i \u001b[38;5;129;01min\u001b[39;00m \u001b[38;5;28mrange\u001b[39m(n_steps):\n\u001b[0;32m--> 238\u001b[0m     \u001b[38;5;28mself\u001b[39m\u001b[38;5;241m.\u001b[39mstep()\n",
      "File \u001b[0;32m~/Documents/Universiteit/Computational Science/jaar 1 /ABM/agent-based-modelling/Project/model.py:228\u001b[0m, in \u001b[0;36mForest.step\u001b[0;34m(self)\u001b[0m\n\u001b[1;32m    223\u001b[0m \u001b[38;5;250m\u001b[39m\u001b[38;5;124;03m\"\"\"\u001b[39;00m\n\u001b[1;32m    224\u001b[0m \u001b[38;5;124;03mMethod that calls the step method for each of the trees, and then for each of the fungi.\u001b[39;00m\n\u001b[1;32m    225\u001b[0m \u001b[38;5;124;03m\"\"\"\u001b[39;00m\n\u001b[1;32m    226\u001b[0m \u001b[38;5;28mself\u001b[39m\u001b[38;5;241m.\u001b[39madd_substrate()\n\u001b[0;32m--> 228\u001b[0m \u001b[38;5;28mself\u001b[39m\u001b[38;5;241m.\u001b[39mschedule\u001b[38;5;241m.\u001b[39mstep()\n\u001b[1;32m    230\u001b[0m \u001b[38;5;66;03m# Save statistics\u001b[39;00m\n\u001b[1;32m    231\u001b[0m \u001b[38;5;28mself\u001b[39m\u001b[38;5;241m.\u001b[39mdatacollector\u001b[38;5;241m.\u001b[39mcollect(\u001b[38;5;28mself\u001b[39m)\n",
      "File \u001b[0;32m~/anaconda3/lib/python3.11/site-packages/mesa/time.py:120\u001b[0m, in \u001b[0;36mBaseScheduler._wrapped_step\u001b[0;34m(self)\u001b[0m\n\u001b[1;32m    118\u001b[0m \u001b[38;5;28;01mdef\u001b[39;00m \u001b[38;5;21m_wrapped_step\u001b[39m(\u001b[38;5;28mself\u001b[39m):\n\u001b[1;32m    119\u001b[0m \u001b[38;5;250m    \u001b[39m\u001b[38;5;124;03m\"\"\"Wrapper for the step method to include time and step updating.\"\"\"\u001b[39;00m\n\u001b[0;32m--> 120\u001b[0m     \u001b[38;5;28mself\u001b[39m\u001b[38;5;241m.\u001b[39m_original_step()\n\u001b[1;32m    121\u001b[0m     \u001b[38;5;28mself\u001b[39m\u001b[38;5;241m.\u001b[39mmodel\u001b[38;5;241m.\u001b[39m_advance_time()\n",
      "File \u001b[0;32m~/anaconda3/lib/python3.11/site-packages/mesa/time.py:176\u001b[0m, in \u001b[0;36mRandomActivation.step\u001b[0;34m(self)\u001b[0m\n\u001b[1;32m    171\u001b[0m \u001b[38;5;28;01mdef\u001b[39;00m \u001b[38;5;21mstep\u001b[39m(\u001b[38;5;28mself\u001b[39m) \u001b[38;5;241m-\u001b[39m\u001b[38;5;241m>\u001b[39m \u001b[38;5;28;01mNone\u001b[39;00m:\n\u001b[1;32m    172\u001b[0m \u001b[38;5;250m    \u001b[39m\u001b[38;5;124;03m\"\"\"Executes the step of all agents, one at a time, in\u001b[39;00m\n\u001b[1;32m    173\u001b[0m \u001b[38;5;124;03m    random order.\u001b[39;00m\n\u001b[1;32m    174\u001b[0m \n\u001b[1;32m    175\u001b[0m \u001b[38;5;124;03m    \"\"\"\u001b[39;00m\n\u001b[0;32m--> 176\u001b[0m     \u001b[38;5;28mself\u001b[39m\u001b[38;5;241m.\u001b[39mdo_each(\u001b[38;5;124m\"\u001b[39m\u001b[38;5;124mstep\u001b[39m\u001b[38;5;124m\"\u001b[39m, shuffle\u001b[38;5;241m=\u001b[39m\u001b[38;5;28;01mTrue\u001b[39;00m)\n\u001b[1;32m    177\u001b[0m     \u001b[38;5;28mself\u001b[39m\u001b[38;5;241m.\u001b[39msteps \u001b[38;5;241m+\u001b[39m\u001b[38;5;241m=\u001b[39m \u001b[38;5;241m1\u001b[39m\n\u001b[1;32m    178\u001b[0m     \u001b[38;5;28mself\u001b[39m\u001b[38;5;241m.\u001b[39mtime \u001b[38;5;241m+\u001b[39m\u001b[38;5;241m=\u001b[39m \u001b[38;5;241m1\u001b[39m\n",
      "File \u001b[0;32m~/anaconda3/lib/python3.11/site-packages/mesa/time.py:152\u001b[0m, in \u001b[0;36mBaseScheduler.do_each\u001b[0;34m(self, method, shuffle)\u001b[0m\n\u001b[1;32m    150\u001b[0m \u001b[38;5;28;01mif\u001b[39;00m shuffle:\n\u001b[1;32m    151\u001b[0m     \u001b[38;5;28mself\u001b[39m\u001b[38;5;241m.\u001b[39m_agents\u001b[38;5;241m.\u001b[39mshuffle(inplace\u001b[38;5;241m=\u001b[39m\u001b[38;5;28;01mTrue\u001b[39;00m)\n\u001b[0;32m--> 152\u001b[0m \u001b[38;5;28mself\u001b[39m\u001b[38;5;241m.\u001b[39m_agents\u001b[38;5;241m.\u001b[39mdo(method)\n",
      "File \u001b[0;32m~/anaconda3/lib/python3.11/site-packages/mesa/agent.py:245\u001b[0m, in \u001b[0;36mAgentSet.do\u001b[0;34m(self, method_name, return_results, *args, **kwargs)\u001b[0m\n\u001b[1;32m    232\u001b[0m \u001b[38;5;250m\u001b[39m\u001b[38;5;124;03m\"\"\"\u001b[39;00m\n\u001b[1;32m    233\u001b[0m \u001b[38;5;124;03mInvoke a method on each agent in the AgentSet.\u001b[39;00m\n\u001b[1;32m    234\u001b[0m \n\u001b[0;32m   (...)\u001b[0m\n\u001b[1;32m    242\u001b[0m \u001b[38;5;124;03m    AgentSet | list[Any]: The results of the method calls if return_results is True, otherwise the AgentSet itself.\u001b[39;00m\n\u001b[1;32m    243\u001b[0m \u001b[38;5;124;03m\"\"\"\u001b[39;00m\n\u001b[1;32m    244\u001b[0m \u001b[38;5;66;03m# we iterate over the actual weakref keys and check if weakref is alive before calling the method\u001b[39;00m\n\u001b[0;32m--> 245\u001b[0m res \u001b[38;5;241m=\u001b[39m [\n\u001b[1;32m    246\u001b[0m     \u001b[38;5;28mgetattr\u001b[39m(agent, method_name)(\u001b[38;5;241m*\u001b[39margs, \u001b[38;5;241m*\u001b[39m\u001b[38;5;241m*\u001b[39mkwargs)\n\u001b[1;32m    247\u001b[0m     \u001b[38;5;28;01mfor\u001b[39;00m agentref \u001b[38;5;129;01min\u001b[39;00m \u001b[38;5;28mself\u001b[39m\u001b[38;5;241m.\u001b[39m_agents\u001b[38;5;241m.\u001b[39mkeyrefs()\n\u001b[1;32m    248\u001b[0m     \u001b[38;5;28;01mif\u001b[39;00m (agent \u001b[38;5;241m:=\u001b[39m agentref()) \u001b[38;5;129;01mis\u001b[39;00m \u001b[38;5;129;01mnot\u001b[39;00m \u001b[38;5;28;01mNone\u001b[39;00m\n\u001b[1;32m    249\u001b[0m ]\n\u001b[1;32m    251\u001b[0m \u001b[38;5;28;01mreturn\u001b[39;00m res \u001b[38;5;28;01mif\u001b[39;00m return_results \u001b[38;5;28;01melse\u001b[39;00m \u001b[38;5;28mself\u001b[39m\n",
      "File \u001b[0;32m~/anaconda3/lib/python3.11/site-packages/mesa/agent.py:246\u001b[0m, in \u001b[0;36m<listcomp>\u001b[0;34m(.0)\u001b[0m\n\u001b[1;32m    232\u001b[0m \u001b[38;5;250m\u001b[39m\u001b[38;5;124;03m\"\"\"\u001b[39;00m\n\u001b[1;32m    233\u001b[0m \u001b[38;5;124;03mInvoke a method on each agent in the AgentSet.\u001b[39;00m\n\u001b[1;32m    234\u001b[0m \n\u001b[0;32m   (...)\u001b[0m\n\u001b[1;32m    242\u001b[0m \u001b[38;5;124;03m    AgentSet | list[Any]: The results of the method calls if return_results is True, otherwise the AgentSet itself.\u001b[39;00m\n\u001b[1;32m    243\u001b[0m \u001b[38;5;124;03m\"\"\"\u001b[39;00m\n\u001b[1;32m    244\u001b[0m \u001b[38;5;66;03m# we iterate over the actual weakref keys and check if weakref is alive before calling the method\u001b[39;00m\n\u001b[1;32m    245\u001b[0m res \u001b[38;5;241m=\u001b[39m [\n\u001b[0;32m--> 246\u001b[0m     \u001b[38;5;28mgetattr\u001b[39m(agent, method_name)(\u001b[38;5;241m*\u001b[39margs, \u001b[38;5;241m*\u001b[39m\u001b[38;5;241m*\u001b[39mkwargs)\n\u001b[1;32m    247\u001b[0m     \u001b[38;5;28;01mfor\u001b[39;00m agentref \u001b[38;5;129;01min\u001b[39;00m \u001b[38;5;28mself\u001b[39m\u001b[38;5;241m.\u001b[39m_agents\u001b[38;5;241m.\u001b[39mkeyrefs()\n\u001b[1;32m    248\u001b[0m     \u001b[38;5;28;01mif\u001b[39;00m (agent \u001b[38;5;241m:=\u001b[39m agentref()) \u001b[38;5;129;01mis\u001b[39;00m \u001b[38;5;129;01mnot\u001b[39;00m \u001b[38;5;28;01mNone\u001b[39;00m\n\u001b[1;32m    249\u001b[0m ]\n\u001b[1;32m    251\u001b[0m \u001b[38;5;28;01mreturn\u001b[39;00m res \u001b[38;5;28;01mif\u001b[39;00m return_results \u001b[38;5;28;01melse\u001b[39;00m \u001b[38;5;28mself\u001b[39m\n",
      "File \u001b[0;32m~/Documents/Universiteit/Computational Science/jaar 1 /ABM/agent-based-modelling/Project/agent.py:103\u001b[0m, in \u001b[0;36mTree.step\u001b[0;34m(self)\u001b[0m\n\u001b[1;32m     99\u001b[0m \u001b[38;5;28;01mdef\u001b[39;00m \u001b[38;5;21mstep\u001b[39m(\u001b[38;5;28mself\u001b[39m):\n\u001b[1;32m    100\u001b[0m \u001b[38;5;250m    \u001b[39m\u001b[38;5;124;03m\"\"\"\u001b[39;00m\n\u001b[1;32m    101\u001b[0m \u001b[38;5;124;03m    Tree development step.\u001b[39;00m\n\u001b[1;32m    102\u001b[0m \u001b[38;5;124;03m    \"\"\"\u001b[39;00m\n\u001b[0;32m--> 103\u001b[0m     \u001b[38;5;28mself\u001b[39m\u001b[38;5;241m.\u001b[39mgrow()\n\u001b[1;32m    105\u001b[0m     \u001b[38;5;28;01mif\u001b[39;00m \u001b[38;5;28mself\u001b[39m\u001b[38;5;241m.\u001b[39minfected:\n\u001b[1;32m    106\u001b[0m         \u001b[38;5;28mself\u001b[39m\u001b[38;5;241m.\u001b[39mshed_leaves()\n",
      "File \u001b[0;32m~/Documents/Universiteit/Computational Science/jaar 1 /ABM/agent-based-modelling/Project/agent.py:55\u001b[0m, in \u001b[0;36mTree.grow\u001b[0;34m(self)\u001b[0m\n\u001b[1;32m     48\u001b[0m \u001b[38;5;250m\u001b[39m\u001b[38;5;124;03m\"\"\"\u001b[39;00m\n\u001b[1;32m     49\u001b[0m \u001b[38;5;124;03mGrow the tree.\u001b[39;00m\n\u001b[1;32m     50\u001b[0m \u001b[38;5;124;03mTODO:\u001b[39;00m\n\u001b[1;32m     51\u001b[0m \u001b[38;5;124;03m- find correct way to represent root system / inlcusion of neighbour fertility\u001b[39;00m\n\u001b[1;32m     52\u001b[0m \u001b[38;5;124;03m\"\"\"\u001b[39;00m\n\u001b[1;32m     54\u001b[0m v_current \u001b[38;5;241m=\u001b[39m \u001b[38;5;28mself\u001b[39m\u001b[38;5;241m.\u001b[39mvolume\n\u001b[0;32m---> 55\u001b[0m r \u001b[38;5;241m=\u001b[39m \u001b[38;5;28mself\u001b[39m\u001b[38;5;241m.\u001b[39mmodel\u001b[38;5;241m.\u001b[39mcalc_r(\u001b[38;5;28mself\u001b[39m\u001b[38;5;241m.\u001b[39mpos, \u001b[38;5;28mself\u001b[39m\u001b[38;5;241m.\u001b[39mv_max, \u001b[38;5;28mself\u001b[39m\u001b[38;5;241m.\u001b[39mvolume)\n\u001b[1;32m     56\u001b[0m v_update \u001b[38;5;241m=\u001b[39m v_current \u001b[38;5;241m*\u001b[39m np\u001b[38;5;241m.\u001b[39mexp(r \u001b[38;5;241m*\u001b[39m np\u001b[38;5;241m.\u001b[39mlog(v_max\u001b[38;5;241m/\u001b[39m\u001b[38;5;28mself\u001b[39m\u001b[38;5;241m.\u001b[39mvolume))\n\u001b[1;32m     58\u001b[0m \u001b[38;5;28mself\u001b[39m\u001b[38;5;241m.\u001b[39mvolume \u001b[38;5;241m=\u001b[39m v_update\n",
      "File \u001b[0;32m~/Documents/Universiteit/Computational Science/jaar 1 /ABM/agent-based-modelling/Project/model.py:175\u001b[0m, in \u001b[0;36mForest.calc_r\u001b[0;34m(self, pos, v_max, v_self)\u001b[0m\n\u001b[1;32m    170\u001b[0m \u001b[38;5;28;01mdef\u001b[39;00m \u001b[38;5;21mcalc_r\u001b[39m(\u001b[38;5;28mself\u001b[39m, pos, v_max, v_self\u001b[38;5;241m=\u001b[39m\u001b[38;5;241m1\u001b[39m):\n\u001b[1;32m    171\u001b[0m \u001b[38;5;250m    \u001b[39m\u001b[38;5;124;03m\"\"\"\u001b[39;00m\n\u001b[1;32m    172\u001b[0m \u001b[38;5;124;03m    Methods calculates the r_effective of the position pos\u001b[39;00m\n\u001b[1;32m    173\u001b[0m \u001b[38;5;124;03m    \"\"\"\u001b[39;00m\n\u001b[0;32m--> 175\u001b[0m     f_c \u001b[38;5;241m=\u001b[39m \u001b[38;5;28mself\u001b[39m\u001b[38;5;241m.\u001b[39mcalc_fert(pos, v_self, v_max)\n\u001b[1;32m    176\u001b[0m     comp \u001b[38;5;241m=\u001b[39m \u001b[38;5;28mself\u001b[39m\u001b[38;5;241m.\u001b[39mcalc_comp(pos, v_self)\n\u001b[1;32m    177\u001b[0m     F \u001b[38;5;241m=\u001b[39m \u001b[38;5;241m0.01\u001b[39m \u001b[38;5;241m+\u001b[39m f_c \u001b[38;5;241m/\u001b[39m (f_c \u001b[38;5;241m+\u001b[39m \u001b[38;5;241m10\u001b[39m)\n",
      "File \u001b[0;32m~/Documents/Universiteit/Computational Science/jaar 1 /ABM/agent-based-modelling/Project/model.py:152\u001b[0m, in \u001b[0;36mForest.calc_fert\u001b[0;34m(self, pos, v_self, v_max)\u001b[0m\n\u001b[1;32m    149\u001b[0m coord_self \u001b[38;5;241m=\u001b[39m pos\n\u001b[1;32m    150\u001b[0m coord_nbrs \u001b[38;5;241m=\u001b[39m \u001b[38;5;28mself\u001b[39m\u001b[38;5;241m.\u001b[39mgrid\u001b[38;5;241m.\u001b[39mget_neighborhood(\u001b[38;5;28mtuple\u001b[39m(pos), moore\u001b[38;5;241m=\u001b[39m\u001b[38;5;28;01mTrue\u001b[39;00m, include_center\u001b[38;5;241m=\u001b[39m\u001b[38;5;28;01mFalse\u001b[39;00m)\n\u001b[0;32m--> 152\u001b[0m fert_self \u001b[38;5;241m=\u001b[39m \u001b[38;5;28mmin\u001b[39m((\u001b[38;5;241m1\u001b[39m,\u001b[38;5;28mself\u001b[39m\u001b[38;5;241m.\u001b[39mgrid\u001b[38;5;241m.\u001b[39mproperties[\u001b[38;5;124m'\u001b[39m\u001b[38;5;124msoil_fertility\u001b[39m\u001b[38;5;124m'\u001b[39m]\u001b[38;5;241m.\u001b[39mdata[coord_self]))\n\u001b[1;32m    153\u001b[0m fert_nbrs \u001b[38;5;241m=\u001b[39m \u001b[38;5;28msum\u001b[39m([\u001b[38;5;28mmin\u001b[39m(\u001b[38;5;241m0.5\u001b[39m, \u001b[38;5;28mself\u001b[39m\u001b[38;5;241m.\u001b[39mgrid\u001b[38;5;241m.\u001b[39mproperties[\u001b[38;5;124m'\u001b[39m\u001b[38;5;124msoil_fertility\u001b[39m\u001b[38;5;124m'\u001b[39m]\u001b[38;5;241m.\u001b[39mdata[coord]) \u001b[38;5;28;01mfor\u001b[39;00m coord \u001b[38;5;129;01min\u001b[39;00m coord_nbrs])\n\u001b[1;32m    154\u001b[0m f_c \u001b[38;5;241m=\u001b[39m v_self\u001b[38;5;241m/\u001b[39mv_max \u001b[38;5;241m*\u001b[39m (fert_self \u001b[38;5;241m+\u001b[39m fert_nbrs)\n",
      "\u001b[0;31mValueError\u001b[0m: The truth value of an array with more than one element is ambiguous. Use a.any() or a.all()"
     ]
    }
   ],
   "source": [
    "%matplotlib inline\n",
    "\n",
    "width = 10\n",
    "height = 10\n",
    "n_init_trees = 50\n",
    "n_init_fungi = 10\n",
    "harvest_params = [100,0,1]\n",
    "model = mdl.Forest(width, height, n_init_trees, n_init_fungi, harvest_params)\n",
    "model.run_model(n_steps=100)\n",
    "\n",
    "vis.plot_property_layer(model, \"soil_fertility\")\n",
    "\n",
    "data = model.datacollector.get_model_vars_dataframe()\n",
    "\n",
    "fig, ax = plt.subplots()\n",
    "fig.set_size_inches(4, 3)\n",
    "data[[\"Trees\", \"Fungi\"]].plot(ax=ax)\n",
    "ax.set(xlabel='Time', ylabel='Number of agents')\n",
    "plt.show()\n",
    "\n",
    "fig, ax = plt.subplots()\n",
    "fig.set_size_inches(4, 3)\n",
    "data[\"Living Trees Total Volume\"].plot(ax=ax)\n",
    "ax.set(xlabel='Time', ylabel='Total volume of living trees')\n",
    "plt.show()\n",
    "\n",
    "fig, ax = plt.subplots()\n",
    "fig.set_size_inches(4, 3)\n",
    "data[\"Infected Trees\"].plot(ax=ax)\n",
    "ax.set(xlabel='Time', ylabel='Number of infected trees')\n",
    "plt.show()\n",
    "\n",
    "fig, ax = plt.subplots()\n",
    "fig.set_size_inches(4, 3)\n",
    "data[[\"Mean Substrate\"]].plot(ax=ax)\n",
    "ax.set(xlabel='Time', ylabel='Mean substrate')\n",
    "plt.show()"
   ]
  },
  {
   "cell_type": "code",
   "execution_count": 62,
   "metadata": {},
   "outputs": [
    {
     "data": {
      "text/plain": [
       "<module 'model' from '/Users/chayenneolumuyiwa/Documents/Universiteit/Computational Science/jaar 1 /ABM/agent-based-modelling/Project/model.py'>"
      ]
     },
     "execution_count": 62,
     "metadata": {},
     "output_type": "execute_result"
    }
   ],
   "source": [
    "reload(vis)\n",
    "reload(agt)\n",
    "reload(mdl)\n",
    "\n",
    "reload(vis)\n",
    "reload(agt)\n",
    "reload(mdl)"
   ]
  },
  {
   "cell_type": "code",
   "execution_count": 73,
   "metadata": {},
   "outputs": [
    {
     "data": {
      "application/vnd.jupyter.widget-view+json": {
       "model_id": "f4285a04cfd643e8b22b317a91327b11",
       "version_major": 2,
       "version_minor": 0
      },
      "text/html": [
       "Cannot show widget. You probably want to rerun the code cell above (<i>Click in the code cell, and press Shift+Enter <kbd>⇧</kbd>+<kbd>↩</kbd></i>)."
      ],
      "text/plain": [
       "Cannot show ipywidgets in text"
      ]
     },
     "metadata": {},
     "output_type": "display_data"
    }
   ],
   "source": [
    "model_params = {\n",
    "    \"n_init_trees\": {\n",
    "        \"type\": \"SliderInt\",\n",
    "        \"value\": 50,\n",
    "        \"label\": \"Number of agents:\",\n",
    "        \"min\": 10,\n",
    "        \"max\": 100,\n",
    "        \"step\": 1,\n",
    "    },\n",
    "    \"n_init_fungi\": {\n",
    "        \"type\": \"SliderInt\",\n",
    "        \"value\": 50,\n",
    "        \"label\": \"Number of agents:\",\n",
    "        \"min\": 10,\n",
    "        \"max\": 100,\n",
    "        \"step\": 1,\n",
    "    },\n",
    "    \"width\": 10,\n",
    "    \"height\": 10,\n",
    "    \"harvest_params\": [10,0,1]\n",
    "}\n",
    "\n",
    "page = vis.create_jupyter_viz(mdl.Forest, model_params, measures=[\"Trees\", \"Fungi\"])\n",
    "\n",
    "page"
   ]
  },
  {
   "cell_type": "code",
   "execution_count": null,
   "metadata": {},
   "outputs": [],
   "source": []
  }
 ],
 "metadata": {
  "kernelspec": {
   "display_name": "Python 3 (ipykernel)",
   "language": "python",
   "name": "python3"
  },
  "language_info": {
   "codemirror_mode": {
    "name": "ipython",
    "version": 3
   },
   "file_extension": ".py",
   "mimetype": "text/x-python",
   "name": "python",
   "nbconvert_exporter": "python",
   "pygments_lexer": "ipython3",
   "version": "3.11.7"
  }
 },
 "nbformat": 4,
 "nbformat_minor": 4
}
