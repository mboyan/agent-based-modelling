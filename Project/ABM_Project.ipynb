{
 "cells": [
  {
   "cell_type": "markdown",
   "metadata": {},
   "source": [
    "# Agent-Based Modelling\n",
    "\n",
    "### _Shreya Raghavendra (13756877), Boyan Mihaylov (15067602), Eline van de Lagemaat (11892900), Sofia Tavitian (14824248), Chayenne Olumuyiwa (12055662)_"
   ]
  },
  {
   "cell_type": "code",
   "execution_count": 46,
   "metadata": {},
   "outputs": [],
   "source": [
    "import numpy as np\n",
    "import matplotlib.pyplot as plt\n",
    "from importlib import reload\n",
    "\n",
    "import model as mdl\n",
    "import agent as agt\n",
    "import visualisation as vis"
   ]
  },
  {
   "cell_type": "code",
<<<<<<< HEAD
   "execution_count": 2,
=======
   "execution_count": 70,
>>>>>>> origin/main
   "metadata": {},
   "outputs": [
    {
     "data": {
      "text/plain": [
<<<<<<< HEAD
       "<module 'agent' from '/Users/chayenneolumuyiwa/Documents/Universiteit/Computational Science/jaar 1 /ABM/agent-based-modelling/Project/agent.py'>"
      ]
     },
     "execution_count": 2,
=======
       "<module 'agent' from 'd:\\\\GitHub\\\\agent-based-modelling\\\\Project\\\\agent.py'>"
      ]
     },
     "execution_count": 70,
>>>>>>> origin/main
     "metadata": {},
     "output_type": "execute_result"
    }
   ],
   "source": [
    "reload(mdl)\n",
<<<<<<< HEAD
=======
    "reload(agt)\n",
    "\n",
    "reload(mdl)\n",
>>>>>>> origin/main
    "reload(agt)"
   ]
  },
  {
   "cell_type": "code",
<<<<<<< HEAD
   "execution_count": 3,
   "metadata": {},
   "outputs": [],
   "source": [
    "import warnings\n",
    "warnings.filterwarnings('ignore')"
   ]
  },
  {
   "cell_type": "code",
   "execution_count": 4,
   "metadata": {},
   "outputs": [
    {
     "ename": "TypeError",
     "evalue": "unhashable type: 'numpy.ndarray'",
     "output_type": "error",
     "traceback": [
      "\u001b[0;31m---------------------------------------------------------------------------\u001b[0m",
      "\u001b[0;31mTypeError\u001b[0m                                 Traceback (most recent call last)",
      "Cell \u001b[0;32mIn[4], line 8\u001b[0m\n\u001b[1;32m      6\u001b[0m n_init_fungi \u001b[38;5;241m=\u001b[39m \u001b[38;5;241m10\u001b[39m\n\u001b[1;32m      7\u001b[0m model \u001b[38;5;241m=\u001b[39m mdl\u001b[38;5;241m.\u001b[39mForest(width, height, n_init_trees, n_init_fungi)\n\u001b[0;32m----> 8\u001b[0m model\u001b[38;5;241m.\u001b[39mrun_model()\n\u001b[1;32m     10\u001b[0m data \u001b[38;5;241m=\u001b[39m model\u001b[38;5;241m.\u001b[39mdatacollector\u001b[38;5;241m.\u001b[39mget_model_vars_dataframe()\n\u001b[1;32m     11\u001b[0m data\u001b[38;5;241m.\u001b[39mplot()\n",
      "File \u001b[0;32m~/Documents/Universiteit/Computational Science/jaar 1 /ABM/agent-based-modelling/Project/model.py:131\u001b[0m, in \u001b[0;36mForest.run_model\u001b[0;34m(self, n_steps)\u001b[0m\n\u001b[1;32m    127\u001b[0m \u001b[38;5;250m\u001b[39m\u001b[38;5;124;03m\"\"\"\u001b[39;00m\n\u001b[1;32m    128\u001b[0m \u001b[38;5;124;03mMethod that runs the model for a given number of steps.\u001b[39;00m\n\u001b[1;32m    129\u001b[0m \u001b[38;5;124;03m\"\"\"\u001b[39;00m\n\u001b[1;32m    130\u001b[0m \u001b[38;5;28;01mfor\u001b[39;00m i \u001b[38;5;129;01min\u001b[39;00m \u001b[38;5;28mrange\u001b[39m(n_steps):\n\u001b[0;32m--> 131\u001b[0m     \u001b[38;5;28mself\u001b[39m\u001b[38;5;241m.\u001b[39mstep()\n",
      "File \u001b[0;32m~/Documents/Universiteit/Computational Science/jaar 1 /ABM/agent-based-modelling/Project/model.py:119\u001b[0m, in \u001b[0;36mForest.step\u001b[0;34m(self)\u001b[0m\n\u001b[1;32m    115\u001b[0m \u001b[38;5;28;01mdef\u001b[39;00m \u001b[38;5;21mstep\u001b[39m(\u001b[38;5;28mself\u001b[39m):\n\u001b[1;32m    116\u001b[0m \u001b[38;5;250m    \u001b[39m\u001b[38;5;124;03m\"\"\"\u001b[39;00m\n\u001b[1;32m    117\u001b[0m \u001b[38;5;124;03m    Method that calls the step method for each of the trees, and then for each of the fungi.\u001b[39;00m\n\u001b[1;32m    118\u001b[0m \u001b[38;5;124;03m    \"\"\"\u001b[39;00m\n\u001b[0;32m--> 119\u001b[0m     \u001b[38;5;28mself\u001b[39m\u001b[38;5;241m.\u001b[39mschedule_Tree\u001b[38;5;241m.\u001b[39mstep()\n\u001b[1;32m    120\u001b[0m     \u001b[38;5;28mself\u001b[39m\u001b[38;5;241m.\u001b[39mschedule_Fungus\u001b[38;5;241m.\u001b[39mstep()\n\u001b[1;32m    122\u001b[0m     \u001b[38;5;66;03m# Save statistics\u001b[39;00m\n",
      "File \u001b[0;32m~/anaconda3/lib/python3.11/site-packages/mesa/time.py:120\u001b[0m, in \u001b[0;36mBaseScheduler._wrapped_step\u001b[0;34m(self)\u001b[0m\n\u001b[1;32m    118\u001b[0m \u001b[38;5;28;01mdef\u001b[39;00m \u001b[38;5;21m_wrapped_step\u001b[39m(\u001b[38;5;28mself\u001b[39m):\n\u001b[1;32m    119\u001b[0m \u001b[38;5;250m    \u001b[39m\u001b[38;5;124;03m\"\"\"Wrapper for the step method to include time and step updating.\"\"\"\u001b[39;00m\n\u001b[0;32m--> 120\u001b[0m     \u001b[38;5;28mself\u001b[39m\u001b[38;5;241m.\u001b[39m_original_step()\n\u001b[1;32m    121\u001b[0m     \u001b[38;5;28mself\u001b[39m\u001b[38;5;241m.\u001b[39mmodel\u001b[38;5;241m.\u001b[39m_advance_time()\n",
      "File \u001b[0;32m~/anaconda3/lib/python3.11/site-packages/mesa/time.py:176\u001b[0m, in \u001b[0;36mRandomActivation.step\u001b[0;34m(self)\u001b[0m\n\u001b[1;32m    171\u001b[0m \u001b[38;5;28;01mdef\u001b[39;00m \u001b[38;5;21mstep\u001b[39m(\u001b[38;5;28mself\u001b[39m) \u001b[38;5;241m-\u001b[39m\u001b[38;5;241m>\u001b[39m \u001b[38;5;28;01mNone\u001b[39;00m:\n\u001b[1;32m    172\u001b[0m \u001b[38;5;250m    \u001b[39m\u001b[38;5;124;03m\"\"\"Executes the step of all agents, one at a time, in\u001b[39;00m\n\u001b[1;32m    173\u001b[0m \u001b[38;5;124;03m    random order.\u001b[39;00m\n\u001b[1;32m    174\u001b[0m \n\u001b[1;32m    175\u001b[0m \u001b[38;5;124;03m    \"\"\"\u001b[39;00m\n\u001b[0;32m--> 176\u001b[0m     \u001b[38;5;28mself\u001b[39m\u001b[38;5;241m.\u001b[39mdo_each(\u001b[38;5;124m\"\u001b[39m\u001b[38;5;124mstep\u001b[39m\u001b[38;5;124m\"\u001b[39m, shuffle\u001b[38;5;241m=\u001b[39m\u001b[38;5;28;01mTrue\u001b[39;00m)\n\u001b[1;32m    177\u001b[0m     \u001b[38;5;28mself\u001b[39m\u001b[38;5;241m.\u001b[39msteps \u001b[38;5;241m+\u001b[39m\u001b[38;5;241m=\u001b[39m \u001b[38;5;241m1\u001b[39m\n\u001b[1;32m    178\u001b[0m     \u001b[38;5;28mself\u001b[39m\u001b[38;5;241m.\u001b[39mtime \u001b[38;5;241m+\u001b[39m\u001b[38;5;241m=\u001b[39m \u001b[38;5;241m1\u001b[39m\n",
      "File \u001b[0;32m~/anaconda3/lib/python3.11/site-packages/mesa/time.py:152\u001b[0m, in \u001b[0;36mBaseScheduler.do_each\u001b[0;34m(self, method, shuffle)\u001b[0m\n\u001b[1;32m    150\u001b[0m \u001b[38;5;28;01mif\u001b[39;00m shuffle:\n\u001b[1;32m    151\u001b[0m     \u001b[38;5;28mself\u001b[39m\u001b[38;5;241m.\u001b[39m_agents\u001b[38;5;241m.\u001b[39mshuffle(inplace\u001b[38;5;241m=\u001b[39m\u001b[38;5;28;01mTrue\u001b[39;00m)\n\u001b[0;32m--> 152\u001b[0m \u001b[38;5;28mself\u001b[39m\u001b[38;5;241m.\u001b[39m_agents\u001b[38;5;241m.\u001b[39mdo(method)\n",
      "File \u001b[0;32m~/anaconda3/lib/python3.11/site-packages/mesa/agent.py:245\u001b[0m, in \u001b[0;36mAgentSet.do\u001b[0;34m(self, method_name, return_results, *args, **kwargs)\u001b[0m\n\u001b[1;32m    232\u001b[0m \u001b[38;5;250m\u001b[39m\u001b[38;5;124;03m\"\"\"\u001b[39;00m\n\u001b[1;32m    233\u001b[0m \u001b[38;5;124;03mInvoke a method on each agent in the AgentSet.\u001b[39;00m\n\u001b[1;32m    234\u001b[0m \n\u001b[0;32m   (...)\u001b[0m\n\u001b[1;32m    242\u001b[0m \u001b[38;5;124;03m    AgentSet | list[Any]: The results of the method calls if return_results is True, otherwise the AgentSet itself.\u001b[39;00m\n\u001b[1;32m    243\u001b[0m \u001b[38;5;124;03m\"\"\"\u001b[39;00m\n\u001b[1;32m    244\u001b[0m \u001b[38;5;66;03m# we iterate over the actual weakref keys and check if weakref is alive before calling the method\u001b[39;00m\n\u001b[0;32m--> 245\u001b[0m res \u001b[38;5;241m=\u001b[39m [\n\u001b[1;32m    246\u001b[0m     \u001b[38;5;28mgetattr\u001b[39m(agent, method_name)(\u001b[38;5;241m*\u001b[39margs, \u001b[38;5;241m*\u001b[39m\u001b[38;5;241m*\u001b[39mkwargs)\n\u001b[1;32m    247\u001b[0m     \u001b[38;5;28;01mfor\u001b[39;00m agentref \u001b[38;5;129;01min\u001b[39;00m \u001b[38;5;28mself\u001b[39m\u001b[38;5;241m.\u001b[39m_agents\u001b[38;5;241m.\u001b[39mkeyrefs()\n\u001b[1;32m    248\u001b[0m     \u001b[38;5;28;01mif\u001b[39;00m (agent \u001b[38;5;241m:=\u001b[39m agentref()) \u001b[38;5;129;01mis\u001b[39;00m \u001b[38;5;129;01mnot\u001b[39;00m \u001b[38;5;28;01mNone\u001b[39;00m\n\u001b[1;32m    249\u001b[0m ]\n\u001b[1;32m    251\u001b[0m \u001b[38;5;28;01mreturn\u001b[39;00m res \u001b[38;5;28;01mif\u001b[39;00m return_results \u001b[38;5;28;01melse\u001b[39;00m \u001b[38;5;28mself\u001b[39m\n",
      "File \u001b[0;32m~/anaconda3/lib/python3.11/site-packages/mesa/agent.py:246\u001b[0m, in \u001b[0;36m<listcomp>\u001b[0;34m(.0)\u001b[0m\n\u001b[1;32m    232\u001b[0m \u001b[38;5;250m\u001b[39m\u001b[38;5;124;03m\"\"\"\u001b[39;00m\n\u001b[1;32m    233\u001b[0m \u001b[38;5;124;03mInvoke a method on each agent in the AgentSet.\u001b[39;00m\n\u001b[1;32m    234\u001b[0m \n\u001b[0;32m   (...)\u001b[0m\n\u001b[1;32m    242\u001b[0m \u001b[38;5;124;03m    AgentSet | list[Any]: The results of the method calls if return_results is True, otherwise the AgentSet itself.\u001b[39;00m\n\u001b[1;32m    243\u001b[0m \u001b[38;5;124;03m\"\"\"\u001b[39;00m\n\u001b[1;32m    244\u001b[0m \u001b[38;5;66;03m# we iterate over the actual weakref keys and check if weakref is alive before calling the method\u001b[39;00m\n\u001b[1;32m    245\u001b[0m res \u001b[38;5;241m=\u001b[39m [\n\u001b[0;32m--> 246\u001b[0m     \u001b[38;5;28mgetattr\u001b[39m(agent, method_name)(\u001b[38;5;241m*\u001b[39margs, \u001b[38;5;241m*\u001b[39m\u001b[38;5;241m*\u001b[39mkwargs)\n\u001b[1;32m    247\u001b[0m     \u001b[38;5;28;01mfor\u001b[39;00m agentref \u001b[38;5;129;01min\u001b[39;00m \u001b[38;5;28mself\u001b[39m\u001b[38;5;241m.\u001b[39m_agents\u001b[38;5;241m.\u001b[39mkeyrefs()\n\u001b[1;32m    248\u001b[0m     \u001b[38;5;28;01mif\u001b[39;00m (agent \u001b[38;5;241m:=\u001b[39m agentref()) \u001b[38;5;129;01mis\u001b[39;00m \u001b[38;5;129;01mnot\u001b[39;00m \u001b[38;5;28;01mNone\u001b[39;00m\n\u001b[1;32m    249\u001b[0m ]\n\u001b[1;32m    251\u001b[0m \u001b[38;5;28;01mreturn\u001b[39;00m res \u001b[38;5;28;01mif\u001b[39;00m return_results \u001b[38;5;28;01melse\u001b[39;00m \u001b[38;5;28mself\u001b[39m\n",
      "File \u001b[0;32m~/Documents/Universiteit/Computational Science/jaar 1 /ABM/agent-based-modelling/Project/agent.py:84\u001b[0m, in \u001b[0;36mTree.step\u001b[0;34m(self)\u001b[0m\n\u001b[1;32m     80\u001b[0m \u001b[38;5;28;01mdef\u001b[39;00m \u001b[38;5;21mstep\u001b[39m(\u001b[38;5;28mself\u001b[39m):\n\u001b[1;32m     81\u001b[0m \u001b[38;5;250m    \u001b[39m\u001b[38;5;124;03m\"\"\"\u001b[39;00m\n\u001b[1;32m     82\u001b[0m \u001b[38;5;124;03m    Tree development step.\u001b[39;00m\n\u001b[1;32m     83\u001b[0m \u001b[38;5;124;03m    \"\"\"\u001b[39;00m\n\u001b[0;32m---> 84\u001b[0m     \u001b[38;5;28mself\u001b[39m\u001b[38;5;241m.\u001b[39mgrow()\n\u001b[1;32m     86\u001b[0m     \u001b[38;5;28;01mif\u001b[39;00m \u001b[38;5;28mself\u001b[39m\u001b[38;5;241m.\u001b[39minfected:\n\u001b[1;32m     87\u001b[0m         \u001b[38;5;28mself\u001b[39m\u001b[38;5;241m.\u001b[39mshed_leaves()\n",
      "File \u001b[0;32m~/Documents/Universiteit/Computational Science/jaar 1 /ABM/agent-based-modelling/Project/agent.py:46\u001b[0m, in \u001b[0;36mTree.grow\u001b[0;34m(self)\u001b[0m\n\u001b[1;32m     44\u001b[0m \u001b[38;5;66;03m# Get fertility of current cell and its neighbours\u001b[39;00m\n\u001b[1;32m     45\u001b[0m fertility_center \u001b[38;5;241m=\u001b[39m \u001b[38;5;28mself\u001b[39m\u001b[38;5;241m.\u001b[39mmodel\u001b[38;5;241m.\u001b[39mgrid\u001b[38;5;241m.\u001b[39mproperties[\u001b[38;5;124m'\u001b[39m\u001b[38;5;124msoil_fertility\u001b[39m\u001b[38;5;124m'\u001b[39m]\u001b[38;5;241m.\u001b[39mdata[\u001b[38;5;28mself\u001b[39m\u001b[38;5;241m.\u001b[39mpos[\u001b[38;5;241m0\u001b[39m], \u001b[38;5;28mself\u001b[39m\u001b[38;5;241m.\u001b[39mpos[\u001b[38;5;241m1\u001b[39m]]\n\u001b[0;32m---> 46\u001b[0m neighbourhood \u001b[38;5;241m=\u001b[39m \u001b[38;5;28mself\u001b[39m\u001b[38;5;241m.\u001b[39mmodel\u001b[38;5;241m.\u001b[39mgrid\u001b[38;5;241m.\u001b[39mget_neighborhood(\u001b[38;5;28mself\u001b[39m\u001b[38;5;241m.\u001b[39mpos, moore\u001b[38;5;241m=\u001b[39m\u001b[38;5;28;01mTrue\u001b[39;00m, include_center\u001b[38;5;241m=\u001b[39m\u001b[38;5;28;01mFalse\u001b[39;00m)\n\u001b[1;32m     47\u001b[0m fertility_nbrs \u001b[38;5;241m=\u001b[39m [\u001b[38;5;28mself\u001b[39m\u001b[38;5;241m.\u001b[39mmodel\u001b[38;5;241m.\u001b[39mgrid_properties[\u001b[38;5;124m'\u001b[39m\u001b[38;5;124msoil_fertility\u001b[39m\u001b[38;5;124m'\u001b[39m]\u001b[38;5;241m.\u001b[39mdata[x, y] \u001b[38;5;28;01mfor\u001b[39;00m x, y \u001b[38;5;129;01min\u001b[39;00m neighbourhood]\n\u001b[1;32m     48\u001b[0m fertility \u001b[38;5;241m=\u001b[39m \u001b[38;5;241m0.5\u001b[39m \u001b[38;5;241m*\u001b[39m fertility_center \u001b[38;5;241m+\u001b[39m \u001b[38;5;241m0.5\u001b[39m \u001b[38;5;241m*\u001b[39m np\u001b[38;5;241m.\u001b[39mmean(fertility_nbrs)\n",
      "File \u001b[0;32m~/anaconda3/lib/python3.11/site-packages/mesa/space.py:259\u001b[0m, in \u001b[0;36m_Grid.get_neighborhood\u001b[0;34m(self, pos, moore, include_center, radius)\u001b[0m\n\u001b[1;32m    240\u001b[0m \u001b[38;5;250m\u001b[39m\u001b[38;5;124;03m\"\"\"Return a list of cells that are in the neighborhood of a\u001b[39;00m\n\u001b[1;32m    241\u001b[0m \u001b[38;5;124;03mcertain point.\u001b[39;00m\n\u001b[1;32m    242\u001b[0m \n\u001b[0;32m   (...)\u001b[0m\n\u001b[1;32m    256\u001b[0m \u001b[38;5;124;03m    if not including the center).\u001b[39;00m\n\u001b[1;32m    257\u001b[0m \u001b[38;5;124;03m\"\"\"\u001b[39;00m\n\u001b[1;32m    258\u001b[0m cache_key \u001b[38;5;241m=\u001b[39m (pos, moore, include_center, radius)\n\u001b[0;32m--> 259\u001b[0m neighborhood \u001b[38;5;241m=\u001b[39m \u001b[38;5;28mself\u001b[39m\u001b[38;5;241m.\u001b[39m_neighborhood_cache\u001b[38;5;241m.\u001b[39mget(cache_key, \u001b[38;5;28;01mNone\u001b[39;00m)\n\u001b[1;32m    261\u001b[0m \u001b[38;5;28;01mif\u001b[39;00m neighborhood \u001b[38;5;129;01mis\u001b[39;00m \u001b[38;5;129;01mnot\u001b[39;00m \u001b[38;5;28;01mNone\u001b[39;00m:\n\u001b[1;32m    262\u001b[0m     \u001b[38;5;28;01mreturn\u001b[39;00m neighborhood\n",
      "\u001b[0;31mTypeError\u001b[0m: unhashable type: 'numpy.ndarray'"
     ]
=======
   "execution_count": 72,
   "metadata": {},
   "outputs": [
    {
     "name": "stderr",
     "output_type": "stream",
     "text": [
      "d:\\GitHub\\agent-based-modelling\\Project\\model.py:47: UserWarning: Default value 1 (int) might not be best suitable with dtype=float64.\n",
      "  # substrate = np.random.randint(max_substrate)\n",
      "d:\\GitHub\\agent-based-modelling\\Project\\model.py:51: UserWarning: Default value 1 (int) might not be best suitable with dtype=float64.\n",
      "  \n"
     ]
    },
    {
     "data": {
      "image/png": "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",
      "text/plain": [
       "<Figure size 400x300 with 1 Axes>"
      ]
     },
     "metadata": {},
     "output_type": "display_data"
    },
    {
     "name": "stdout",
     "output_type": "stream",
     "text": [
      "0     181.000000\n",
      "1     404.265366\n",
      "2     922.773740\n",
      "3    2145.508760\n",
      "4    5063.147712\n",
      "Name: Living Trees Total Volume, dtype: float64\n"
     ]
    },
    {
     "data": {
      "image/png": "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",
      "text/plain": [
       "<Figure size 400x300 with 1 Axes>"
      ]
     },
     "metadata": {},
     "output_type": "display_data"
    },
    {
     "data": {
      "image/png": "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",
      "text/plain": [
       "<Figure size 400x300 with 1 Axes>"
      ]
     },
     "metadata": {},
     "output_type": "display_data"
>>>>>>> origin/main
    }
   ],
   "source": [
    "%matplotlib inline\n",
    "\n",
    "width = 10\n",
    "height = 10\n",
    "n_init_trees = 10\n",
    "n_init_fungi = 10\n",
    "model = mdl.Forest(width, height, n_init_trees, n_init_fungi)\n",
    "model.run_model()\n",
    "\n",
    "data = model.datacollector.get_model_vars_dataframe()\n",
    "\n",
    "fig, ax = plt.subplots()\n",
    "fig.set_size_inches(4, 3)\n",
    "data[[\"Trees\", \"Fungi\"]].plot(ax=ax)\n",
    "plt.show()\n",
    "\n",
    "print(data[\"Living Trees Total Volume\"].head())\n",
    "\n",
    "fig, ax = plt.subplots()\n",
    "fig.set_size_inches(4, 3)\n",
    "data[\"Living Trees Total Volume\"].plot(ax=ax)\n",
    "plt.show()\n",
    "\n",
    "fig, ax = plt.subplots()\n",
    "fig.set_size_inches(4, 3)\n",
    "data[\"Infected Trees\"].plot(ax=ax)\n",
    "plt.show()"
   ]
  },
  {
   "cell_type": "code",
   "execution_count": null,
   "metadata": {},
   "outputs": [
    {
     "data": {
      "text/plain": [
       "<module 'model' from 'd:\\\\GitHub\\\\agent-based-modelling\\\\Project\\\\model.py'>"
      ]
     },
     "execution_count": 40,
     "metadata": {},
     "output_type": "execute_result"
    }
   ],
   "source": [
    "reload(vis)\n",
    "reload(agt)\n",
    "reload(mdl)"
   ]
  },
  {
   "cell_type": "code",
   "execution_count": 5,
   "metadata": {},
   "outputs": [
    {
     "data": {
      "application/vnd.jupyter.widget-view+json": {
       "model_id": "4d16b726857c4875984b120f2976990c",
       "version_major": 2,
       "version_minor": 0
      },
      "text/html": [
       "Cannot show widget. You probably want to rerun the code cell above (<i>Click in the code cell, and press Shift+Enter <kbd>⇧</kbd>+<kbd>↩</kbd></i>)."
      ],
      "text/plain": [
       "Cannot show ipywidgets in text"
      ]
     },
     "metadata": {},
     "output_type": "display_data"
    }
   ],
   "source": [
    "model_params = {\n",
    "    \"n_init_trees\": {\n",
    "        \"type\": \"SliderInt\",\n",
    "        \"value\": 50,\n",
    "        \"label\": \"Number of agents:\",\n",
    "        \"min\": 10,\n",
    "        \"max\": 100,\n",
    "        \"step\": 1,\n",
    "    },\n",
    "    \"n_init_fungi\": {\n",
    "        \"type\": \"SliderInt\",\n",
    "        \"value\": 50,\n",
    "        \"label\": \"Number of agents:\",\n",
    "        \"min\": 10,\n",
    "        \"max\": 100,\n",
    "        \"step\": 1,\n",
    "    },\n",
    "    \"width\": 10,\n",
    "    \"height\": 10,\n",
    "}\n",
    "\n",
    "vis.create_jupyter_viz(mdl.Forest, model_params, measures=[\"Trees\", \"Fungi\"])"
   ]
  }
 ],
 "metadata": {
  "kernelspec": {
   "display_name": "Python 3 (ipykernel)",
   "language": "python",
   "name": "python3"
  },
  "language_info": {
   "codemirror_mode": {
    "name": "ipython",
    "version": 3
   },
   "file_extension": ".py",
   "mimetype": "text/x-python",
   "name": "python",
   "nbconvert_exporter": "python",
   "pygments_lexer": "ipython3",
<<<<<<< HEAD
   "version": "3.11.7"
=======
   "version": "3.10.14"
>>>>>>> origin/main
  }
 },
 "nbformat": 4,
 "nbformat_minor": 4
}
