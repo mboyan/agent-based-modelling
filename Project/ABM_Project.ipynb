{
 "cells": [
  {
   "cell_type": "markdown",
   "metadata": {},
   "source": [
    "# Agent-Based Modelling\n",
    "\n",
    "### _Shreya Raghavendra (13756877), Boyan Mihaylov (15067602), Eline van de Lagemaat (11892900), Sofia Tavitian (14824248), Chayenne Olumuyiwa (12055662)_"
   ]
  },
  {
   "cell_type": "code",
   "execution_count": 4,
   "metadata": {},
   "outputs": [],
   "source": [
    "import numpy as np\n",
    "from importlib import reload\n",
    "\n",
    "import model as mdl\n",
    "import agent as agt"
   ]
  },
  {
   "cell_type": "code",
   "execution_count": 47,
   "metadata": {},
   "outputs": [
    {
     "data": {
      "text/plain": [
       "<module 'agent' from 'd:\\\\GitHub\\\\agent-based-modelling\\\\Project\\\\agent.py'>"
      ]
     },
     "execution_count": 47,
     "metadata": {},
     "output_type": "execute_result"
    }
   ],
   "source": [
    "reload(mdl)\n",
    "reload(agt)"
   ]
  },
  {
   "cell_type": "code",
   "execution_count": 48,
   "metadata": {},
   "outputs": [
    {
     "name": "stdout",
     "output_type": "stream",
     "text": [
      "<mesa.space.PropertyLayer object at 0x0000023CA52239D0>\n"
     ]
    },
    {
     "name": "stderr",
     "output_type": "stream",
     "text": [
      "d:\\GitHub\\agent-based-modelling\\Project\\model.py:65: UserWarning: Agent 2 is being placed with\n",
      "place_agent() despite already having the position (4, 4). In most\n",
      "cases, you'd want to clear the current position with remove_agent()\n",
      "before placing the agent again.\n",
      "  self.grid.place_agent(new_agent, pos)\n",
      "d:\\GitHub\\agent-based-modelling\\Project\\model.py:65: UserWarning: Agent 3 is being placed with\n",
      "place_agent() despite already having the position (0, 2). In most\n",
      "cases, you'd want to clear the current position with remove_agent()\n",
      "before placing the agent again.\n",
      "  self.grid.place_agent(new_agent, pos)\n",
      "d:\\GitHub\\agent-based-modelling\\Project\\model.py:65: UserWarning: Agent 4 is being placed with\n",
      "place_agent() despite already having the position (6, 2). In most\n",
      "cases, you'd want to clear the current position with remove_agent()\n",
      "before placing the agent again.\n",
      "  self.grid.place_agent(new_agent, pos)\n",
      "d:\\GitHub\\agent-based-modelling\\Project\\model.py:65: UserWarning: Agent 5 is being placed with\n",
      "place_agent() despite already having the position (7, 7). In most\n",
      "cases, you'd want to clear the current position with remove_agent()\n",
      "before placing the agent again.\n",
      "  self.grid.place_agent(new_agent, pos)\n",
      "d:\\GitHub\\agent-based-modelling\\Project\\model.py:65: UserWarning: Agent 6 is being placed with\n",
      "place_agent() despite already having the position (1, 7). In most\n",
      "cases, you'd want to clear the current position with remove_agent()\n",
      "before placing the agent again.\n",
      "  self.grid.place_agent(new_agent, pos)\n",
      "d:\\GitHub\\agent-based-modelling\\Project\\model.py:65: UserWarning: Agent 7 is being placed with\n",
      "place_agent() despite already having the position (6, 9). In most\n",
      "cases, you'd want to clear the current position with remove_agent()\n",
      "before placing the agent again.\n",
      "  self.grid.place_agent(new_agent, pos)\n",
      "d:\\GitHub\\agent-based-modelling\\Project\\model.py:65: UserWarning: Agent 8 is being placed with\n",
      "place_agent() despite already having the position (3, 7). In most\n",
      "cases, you'd want to clear the current position with remove_agent()\n",
      "before placing the agent again.\n",
      "  self.grid.place_agent(new_agent, pos)\n",
      "d:\\GitHub\\agent-based-modelling\\Project\\model.py:65: UserWarning: Agent 9 is being placed with\n",
      "place_agent() despite already having the position (3, 4). In most\n",
      "cases, you'd want to clear the current position with remove_agent()\n",
      "before placing the agent again.\n",
      "  self.grid.place_agent(new_agent, pos)\n",
      "d:\\GitHub\\agent-based-modelling\\Project\\model.py:65: UserWarning: Agent 10 is being placed with\n",
      "place_agent() despite already having the position (7, 7). In most\n",
      "cases, you'd want to clear the current position with remove_agent()\n",
      "before placing the agent again.\n",
      "  self.grid.place_agent(new_agent, pos)\n",
      "d:\\GitHub\\agent-based-modelling\\Project\\model.py:65: UserWarning: Agent 11 is being placed with\n",
      "place_agent() despite already having the position (1, 1). In most\n",
      "cases, you'd want to clear the current position with remove_agent()\n",
      "before placing the agent again.\n",
      "  self.grid.place_agent(new_agent, pos)\n",
      "d:\\GitHub\\agent-based-modelling\\Project\\model.py:65: UserWarning: Agent 12 is being placed with\n",
      "place_agent() despite already having the position (4, 7). In most\n",
      "cases, you'd want to clear the current position with remove_agent()\n",
      "before placing the agent again.\n",
      "  self.grid.place_agent(new_agent, pos)\n",
      "d:\\GitHub\\agent-based-modelling\\Project\\model.py:65: UserWarning: Agent 13 is being placed with\n",
      "place_agent() despite already having the position (8, 0). In most\n",
      "cases, you'd want to clear the current position with remove_agent()\n",
      "before placing the agent again.\n",
      "  self.grid.place_agent(new_agent, pos)\n",
      "d:\\GitHub\\agent-based-modelling\\Project\\model.py:65: UserWarning: Agent 14 is being placed with\n",
      "place_agent() despite already having the position (7, 7). In most\n",
      "cases, you'd want to clear the current position with remove_agent()\n",
      "before placing the agent again.\n",
      "  self.grid.place_agent(new_agent, pos)\n",
      "d:\\GitHub\\agent-based-modelling\\Project\\model.py:65: UserWarning: Agent 15 is being placed with\n",
      "place_agent() despite already having the position (5, 6). In most\n",
      "cases, you'd want to clear the current position with remove_agent()\n",
      "before placing the agent again.\n",
      "  self.grid.place_agent(new_agent, pos)\n",
      "d:\\GitHub\\agent-based-modelling\\Project\\model.py:65: UserWarning: Agent 16 is being placed with\n",
      "place_agent() despite already having the position (9, 8). In most\n",
      "cases, you'd want to clear the current position with remove_agent()\n",
      "before placing the agent again.\n",
      "  self.grid.place_agent(new_agent, pos)\n",
      "d:\\GitHub\\agent-based-modelling\\Project\\model.py:65: UserWarning: Agent 17 is being placed with\n",
      "place_agent() despite already having the position (8, 6). In most\n",
      "cases, you'd want to clear the current position with remove_agent()\n",
      "before placing the agent again.\n",
      "  self.grid.place_agent(new_agent, pos)\n",
      "d:\\GitHub\\agent-based-modelling\\Project\\model.py:65: UserWarning: Agent 18 is being placed with\n",
      "place_agent() despite already having the position (1, 3). In most\n",
      "cases, you'd want to clear the current position with remove_agent()\n",
      "before placing the agent again.\n",
      "  self.grid.place_agent(new_agent, pos)\n",
      "d:\\GitHub\\agent-based-modelling\\Project\\model.py:65: UserWarning: Agent 19 is being placed with\n",
      "place_agent() despite already having the position (6, 2). In most\n",
      "cases, you'd want to clear the current position with remove_agent()\n",
      "before placing the agent again.\n",
      "  self.grid.place_agent(new_agent, pos)\n",
      "d:\\GitHub\\agent-based-modelling\\Project\\model.py:65: UserWarning: Agent 20 is being placed with\n",
      "place_agent() despite already having the position (0, 8). In most\n",
      "cases, you'd want to clear the current position with remove_agent()\n",
      "before placing the agent again.\n",
      "  self.grid.place_agent(new_agent, pos)\n"
     ]
    },
    {
     "ename": "TypeError",
     "evalue": "'PropertyLayer' object is not subscriptable",
     "output_type": "error",
     "traceback": [
      "\u001b[1;31m---------------------------------------------------------------------------\u001b[0m",
      "\u001b[1;31mTypeError\u001b[0m                                 Traceback (most recent call last)",
      "Cell \u001b[1;32mIn[48], line 6\u001b[0m\n\u001b[0;32m      4\u001b[0m n_init_fungi \u001b[38;5;241m=\u001b[39m \u001b[38;5;241m10\u001b[39m\n\u001b[0;32m      5\u001b[0m model \u001b[38;5;241m=\u001b[39m mdl\u001b[38;5;241m.\u001b[39mForest(width, height, n_init_trees, n_init_fungi)\n\u001b[1;32m----> 6\u001b[0m \u001b[43mmodel\u001b[49m\u001b[38;5;241;43m.\u001b[39;49m\u001b[43mrun_model\u001b[49m\u001b[43m(\u001b[49m\u001b[43m)\u001b[49m\n",
      "File \u001b[1;32md:\\GitHub\\agent-based-modelling\\Project\\model.py:109\u001b[0m, in \u001b[0;36mForest.run_model\u001b[1;34m(self, n_steps)\u001b[0m\n\u001b[0;32m    105\u001b[0m \u001b[38;5;250m\u001b[39m\u001b[38;5;124;03m\"\"\"\u001b[39;00m\n\u001b[0;32m    106\u001b[0m \u001b[38;5;124;03mMethod that runs the model for a given number of steps.\u001b[39;00m\n\u001b[0;32m    107\u001b[0m \u001b[38;5;124;03m\"\"\"\u001b[39;00m\n\u001b[0;32m    108\u001b[0m \u001b[38;5;28;01mfor\u001b[39;00m i \u001b[38;5;129;01min\u001b[39;00m \u001b[38;5;28mrange\u001b[39m(n_steps):\n\u001b[1;32m--> 109\u001b[0m     \u001b[38;5;28;43mself\u001b[39;49m\u001b[38;5;241;43m.\u001b[39;49m\u001b[43mstep\u001b[49m\u001b[43m(\u001b[49m\u001b[43m)\u001b[49m\n",
      "File \u001b[1;32md:\\GitHub\\agent-based-modelling\\Project\\model.py:97\u001b[0m, in \u001b[0;36mForest.step\u001b[1;34m(self)\u001b[0m\n\u001b[0;32m     94\u001b[0m \u001b[38;5;28mprint\u001b[39m(\u001b[38;5;28mself\u001b[39m\u001b[38;5;241m.\u001b[39mgrid\u001b[38;5;241m.\u001b[39mproperties[\u001b[38;5;124m'\u001b[39m\u001b[38;5;124msubstrate\u001b[39m\u001b[38;5;124m'\u001b[39m])\n\u001b[0;32m     95\u001b[0m \u001b[38;5;66;03m# for agent in list(self.agents):\u001b[39;00m\n\u001b[0;32m     96\u001b[0m \u001b[38;5;66;03m#     agent.step()\u001b[39;00m\n\u001b[1;32m---> 97\u001b[0m \u001b[38;5;28;43mself\u001b[39;49m\u001b[38;5;241;43m.\u001b[39;49m\u001b[43mschedule_Tree\u001b[49m\u001b[38;5;241;43m.\u001b[39;49m\u001b[43mstep\u001b[49m\u001b[43m(\u001b[49m\u001b[43m)\u001b[49m\n\u001b[0;32m     98\u001b[0m \u001b[38;5;28mself\u001b[39m\u001b[38;5;241m.\u001b[39mschedule_Fungus\u001b[38;5;241m.\u001b[39mstep()\n\u001b[0;32m    100\u001b[0m \u001b[38;5;66;03m# Save statistics\u001b[39;00m\n",
      "File \u001b[1;32mc:\\Users\\mihbo\\anaconda3\\lib\\site-packages\\mesa\\time.py:120\u001b[0m, in \u001b[0;36mBaseScheduler._wrapped_step\u001b[1;34m(self)\u001b[0m\n\u001b[0;32m    118\u001b[0m \u001b[38;5;28;01mdef\u001b[39;00m \u001b[38;5;21m_wrapped_step\u001b[39m(\u001b[38;5;28mself\u001b[39m):\n\u001b[0;32m    119\u001b[0m \u001b[38;5;250m    \u001b[39m\u001b[38;5;124;03m\"\"\"Wrapper for the step method to include time and step updating.\"\"\"\u001b[39;00m\n\u001b[1;32m--> 120\u001b[0m     \u001b[38;5;28;43mself\u001b[39;49m\u001b[38;5;241;43m.\u001b[39;49m\u001b[43m_original_step\u001b[49m\u001b[43m(\u001b[49m\u001b[43m)\u001b[49m\n\u001b[0;32m    121\u001b[0m     \u001b[38;5;28mself\u001b[39m\u001b[38;5;241m.\u001b[39mmodel\u001b[38;5;241m.\u001b[39m_advance_time()\n",
      "File \u001b[1;32mc:\\Users\\mihbo\\anaconda3\\lib\\site-packages\\mesa\\time.py:176\u001b[0m, in \u001b[0;36mRandomActivation.step\u001b[1;34m(self)\u001b[0m\n\u001b[0;32m    171\u001b[0m \u001b[38;5;28;01mdef\u001b[39;00m \u001b[38;5;21mstep\u001b[39m(\u001b[38;5;28mself\u001b[39m) \u001b[38;5;241m-\u001b[39m\u001b[38;5;241m>\u001b[39m \u001b[38;5;28;01mNone\u001b[39;00m:\n\u001b[0;32m    172\u001b[0m \u001b[38;5;250m    \u001b[39m\u001b[38;5;124;03m\"\"\"Executes the step of all agents, one at a time, in\u001b[39;00m\n\u001b[0;32m    173\u001b[0m \u001b[38;5;124;03m    random order.\u001b[39;00m\n\u001b[0;32m    174\u001b[0m \n\u001b[0;32m    175\u001b[0m \u001b[38;5;124;03m    \"\"\"\u001b[39;00m\n\u001b[1;32m--> 176\u001b[0m     \u001b[38;5;28;43mself\u001b[39;49m\u001b[38;5;241;43m.\u001b[39;49m\u001b[43mdo_each\u001b[49m\u001b[43m(\u001b[49m\u001b[38;5;124;43m\"\u001b[39;49m\u001b[38;5;124;43mstep\u001b[39;49m\u001b[38;5;124;43m\"\u001b[39;49m\u001b[43m,\u001b[49m\u001b[43m \u001b[49m\u001b[43mshuffle\u001b[49m\u001b[38;5;241;43m=\u001b[39;49m\u001b[38;5;28;43;01mTrue\u001b[39;49;00m\u001b[43m)\u001b[49m\n\u001b[0;32m    177\u001b[0m     \u001b[38;5;28mself\u001b[39m\u001b[38;5;241m.\u001b[39msteps \u001b[38;5;241m+\u001b[39m\u001b[38;5;241m=\u001b[39m \u001b[38;5;241m1\u001b[39m\n\u001b[0;32m    178\u001b[0m     \u001b[38;5;28mself\u001b[39m\u001b[38;5;241m.\u001b[39mtime \u001b[38;5;241m+\u001b[39m\u001b[38;5;241m=\u001b[39m \u001b[38;5;241m1\u001b[39m\n",
      "File \u001b[1;32mc:\\Users\\mihbo\\anaconda3\\lib\\site-packages\\mesa\\time.py:152\u001b[0m, in \u001b[0;36mBaseScheduler.do_each\u001b[1;34m(self, method, shuffle)\u001b[0m\n\u001b[0;32m    150\u001b[0m \u001b[38;5;28;01mif\u001b[39;00m shuffle:\n\u001b[0;32m    151\u001b[0m     \u001b[38;5;28mself\u001b[39m\u001b[38;5;241m.\u001b[39m_agents\u001b[38;5;241m.\u001b[39mshuffle(inplace\u001b[38;5;241m=\u001b[39m\u001b[38;5;28;01mTrue\u001b[39;00m)\n\u001b[1;32m--> 152\u001b[0m \u001b[38;5;28;43mself\u001b[39;49m\u001b[38;5;241;43m.\u001b[39;49m\u001b[43m_agents\u001b[49m\u001b[38;5;241;43m.\u001b[39;49m\u001b[43mdo\u001b[49m\u001b[43m(\u001b[49m\u001b[43mmethod\u001b[49m\u001b[43m)\u001b[49m\n",
      "File \u001b[1;32mc:\\Users\\mihbo\\anaconda3\\lib\\site-packages\\mesa\\agent.py:245\u001b[0m, in \u001b[0;36mAgentSet.do\u001b[1;34m(self, method_name, return_results, *args, **kwargs)\u001b[0m\n\u001b[0;32m    232\u001b[0m \u001b[38;5;250m\u001b[39m\u001b[38;5;124;03m\"\"\"\u001b[39;00m\n\u001b[0;32m    233\u001b[0m \u001b[38;5;124;03mInvoke a method on each agent in the AgentSet.\u001b[39;00m\n\u001b[0;32m    234\u001b[0m \n\u001b[1;32m   (...)\u001b[0m\n\u001b[0;32m    242\u001b[0m \u001b[38;5;124;03m    AgentSet | list[Any]: The results of the method calls if return_results is True, otherwise the AgentSet itself.\u001b[39;00m\n\u001b[0;32m    243\u001b[0m \u001b[38;5;124;03m\"\"\"\u001b[39;00m\n\u001b[0;32m    244\u001b[0m \u001b[38;5;66;03m# we iterate over the actual weakref keys and check if weakref is alive before calling the method\u001b[39;00m\n\u001b[1;32m--> 245\u001b[0m res \u001b[38;5;241m=\u001b[39m [\n\u001b[0;32m    246\u001b[0m     \u001b[38;5;28mgetattr\u001b[39m(agent, method_name)(\u001b[38;5;241m*\u001b[39margs, \u001b[38;5;241m*\u001b[39m\u001b[38;5;241m*\u001b[39mkwargs)\n\u001b[0;32m    247\u001b[0m     \u001b[38;5;28;01mfor\u001b[39;00m agentref \u001b[38;5;129;01min\u001b[39;00m \u001b[38;5;28mself\u001b[39m\u001b[38;5;241m.\u001b[39m_agents\u001b[38;5;241m.\u001b[39mkeyrefs()\n\u001b[0;32m    248\u001b[0m     \u001b[38;5;28;01mif\u001b[39;00m (agent \u001b[38;5;241m:=\u001b[39m agentref()) \u001b[38;5;129;01mis\u001b[39;00m \u001b[38;5;129;01mnot\u001b[39;00m \u001b[38;5;28;01mNone\u001b[39;00m\n\u001b[0;32m    249\u001b[0m ]\n\u001b[0;32m    251\u001b[0m \u001b[38;5;28;01mreturn\u001b[39;00m res \u001b[38;5;28;01mif\u001b[39;00m return_results \u001b[38;5;28;01melse\u001b[39;00m \u001b[38;5;28mself\u001b[39m\n",
      "File \u001b[1;32mc:\\Users\\mihbo\\anaconda3\\lib\\site-packages\\mesa\\agent.py:246\u001b[0m, in \u001b[0;36m<listcomp>\u001b[1;34m(.0)\u001b[0m\n\u001b[0;32m    232\u001b[0m \u001b[38;5;250m\u001b[39m\u001b[38;5;124;03m\"\"\"\u001b[39;00m\n\u001b[0;32m    233\u001b[0m \u001b[38;5;124;03mInvoke a method on each agent in the AgentSet.\u001b[39;00m\n\u001b[0;32m    234\u001b[0m \n\u001b[1;32m   (...)\u001b[0m\n\u001b[0;32m    242\u001b[0m \u001b[38;5;124;03m    AgentSet | list[Any]: The results of the method calls if return_results is True, otherwise the AgentSet itself.\u001b[39;00m\n\u001b[0;32m    243\u001b[0m \u001b[38;5;124;03m\"\"\"\u001b[39;00m\n\u001b[0;32m    244\u001b[0m \u001b[38;5;66;03m# we iterate over the actual weakref keys and check if weakref is alive before calling the method\u001b[39;00m\n\u001b[0;32m    245\u001b[0m res \u001b[38;5;241m=\u001b[39m [\n\u001b[1;32m--> 246\u001b[0m     \u001b[38;5;28mgetattr\u001b[39m(agent, method_name)(\u001b[38;5;241m*\u001b[39margs, \u001b[38;5;241m*\u001b[39m\u001b[38;5;241m*\u001b[39mkwargs)\n\u001b[0;32m    247\u001b[0m     \u001b[38;5;28;01mfor\u001b[39;00m agentref \u001b[38;5;129;01min\u001b[39;00m \u001b[38;5;28mself\u001b[39m\u001b[38;5;241m.\u001b[39m_agents\u001b[38;5;241m.\u001b[39mkeyrefs()\n\u001b[0;32m    248\u001b[0m     \u001b[38;5;28;01mif\u001b[39;00m (agent \u001b[38;5;241m:=\u001b[39m agentref()) \u001b[38;5;129;01mis\u001b[39;00m \u001b[38;5;129;01mnot\u001b[39;00m \u001b[38;5;28;01mNone\u001b[39;00m\n\u001b[0;32m    249\u001b[0m ]\n\u001b[0;32m    251\u001b[0m \u001b[38;5;28;01mreturn\u001b[39;00m res \u001b[38;5;28;01mif\u001b[39;00m return_results \u001b[38;5;28;01melse\u001b[39;00m \u001b[38;5;28mself\u001b[39m\n",
      "File \u001b[1;32md:\\GitHub\\agent-based-modelling\\Project\\agent.py:59\u001b[0m, in \u001b[0;36mTree.step\u001b[1;34m(self)\u001b[0m\n\u001b[0;32m     55\u001b[0m \u001b[38;5;28;01mdef\u001b[39;00m \u001b[38;5;21mstep\u001b[39m(\u001b[38;5;28mself\u001b[39m):\n\u001b[0;32m     56\u001b[0m \u001b[38;5;250m    \u001b[39m\u001b[38;5;124;03m\"\"\"\u001b[39;00m\n\u001b[0;32m     57\u001b[0m \u001b[38;5;124;03m    Tree development step.\u001b[39;00m\n\u001b[0;32m     58\u001b[0m \u001b[38;5;124;03m    \"\"\"\u001b[39;00m\n\u001b[1;32m---> 59\u001b[0m     \u001b[38;5;28;43mself\u001b[39;49m\u001b[38;5;241;43m.\u001b[39;49m\u001b[43mgrow\u001b[49m\u001b[43m(\u001b[49m\u001b[43m)\u001b[49m\n\u001b[0;32m     61\u001b[0m     \u001b[38;5;28;01mif\u001b[39;00m \u001b[38;5;28mself\u001b[39m\u001b[38;5;241m.\u001b[39minfected:\n\u001b[0;32m     62\u001b[0m         \u001b[38;5;28mself\u001b[39m\u001b[38;5;241m.\u001b[39mshed_leaves()\n",
      "File \u001b[1;32md:\\GitHub\\agent-based-modelling\\Project\\agent.py:34\u001b[0m, in \u001b[0;36mTree.grow\u001b[1;34m(self)\u001b[0m\n\u001b[0;32m     29\u001b[0m \u001b[38;5;250m\u001b[39m\u001b[38;5;124;03m\"\"\"\u001b[39;00m\n\u001b[0;32m     30\u001b[0m \u001b[38;5;124;03mGrow the tree.\u001b[39;00m\n\u001b[0;32m     31\u001b[0m \u001b[38;5;124;03m\"\"\"\u001b[39;00m\n\u001b[0;32m     33\u001b[0m \u001b[38;5;66;03m# Growth rate proportional to soil fertility\u001b[39;00m\n\u001b[1;32m---> 34\u001b[0m growth_rate \u001b[38;5;241m=\u001b[39m \u001b[38;5;28;43mself\u001b[39;49m\u001b[38;5;241;43m.\u001b[39;49m\u001b[43mmodel\u001b[49m\u001b[38;5;241;43m.\u001b[39;49m\u001b[43mgrid\u001b[49m\u001b[38;5;241;43m.\u001b[39;49m\u001b[43mproperties\u001b[49m\u001b[43m[\u001b[49m\u001b[38;5;124;43m'\u001b[39;49m\u001b[38;5;124;43msoil_fertility\u001b[39;49m\u001b[38;5;124;43m'\u001b[39;49m\u001b[43m]\u001b[49m\u001b[43m[\u001b[49m\u001b[38;5;28;43mself\u001b[39;49m\u001b[38;5;241;43m.\u001b[39;49m\u001b[43mpos\u001b[49m\u001b[43m[\u001b[49m\u001b[38;5;241;43m0\u001b[39;49m\u001b[43m]\u001b[49m\u001b[43m,\u001b[49m\u001b[43m \u001b[49m\u001b[38;5;28;43mself\u001b[39;49m\u001b[38;5;241;43m.\u001b[39;49m\u001b[43mpos\u001b[49m\u001b[43m[\u001b[49m\u001b[38;5;241;43m1\u001b[39;49m\u001b[43m]\u001b[49m\u001b[43m]\u001b[49m \u001b[38;5;241m*\u001b[39m \u001b[38;5;241m0.1\u001b[39m\n\u001b[0;32m     36\u001b[0m \u001b[38;5;28mself\u001b[39m\u001b[38;5;241m.\u001b[39mvolume \u001b[38;5;241m+\u001b[39m\u001b[38;5;241m=\u001b[39m growth_rate\n",
      "\u001b[1;31mTypeError\u001b[0m: 'PropertyLayer' object is not subscriptable"
     ]
    }
   ],
   "source": [
    "width = 10\n",
    "height = 10\n",
    "n_init_trees = 10\n",
    "n_init_fungi = 10\n",
    "model = mdl.Forest(width, height, n_init_trees, n_init_fungi)\n",
    "model.run_model()"
   ]
  }
 ],
 "metadata": {
  "kernelspec": {
   "display_name": "base",
   "language": "python",
   "name": "python3"
  },
  "language_info": {
   "codemirror_mode": {
    "name": "ipython",
    "version": 3
   },
   "file_extension": ".py",
   "mimetype": "text/x-python",
   "name": "python",
   "nbconvert_exporter": "python",
   "pygments_lexer": "ipython3",
   "version": "3.10.14"
  }
 },
 "nbformat": 4,
 "nbformat_minor": 2
}
