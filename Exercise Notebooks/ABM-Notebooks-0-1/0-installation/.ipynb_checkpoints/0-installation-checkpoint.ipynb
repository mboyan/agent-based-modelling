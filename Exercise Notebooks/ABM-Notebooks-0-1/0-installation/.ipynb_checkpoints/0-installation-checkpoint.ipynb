{
 "cells": [
  {
   "cell_type": "markdown",
   "metadata": {},
   "source": [
    "# Setup on your computer\n",
    "\n",
    "\n",
    "The notebooks for the tutorial and the assignments have been built and tested using **Python 3**. By using pipenv we create a virtual environment and aim to reduce the amount of errors due to differences in version.\n",
    "\n",
    "Install pipenv on your computer (i.e., `pip3 install pipenv`)\n",
    "- [Pipenv documentation](https://pipenv-fork.readthedocs.io/en/latest/basics.html)\n",
    "------\n",
    "\n",
    "Once succesfully installed, navigate to your folder where the pipfile and pipfile.lock are located and run the commands below. **Note that there is a more detailed installation guide available in the zipfile for Ubuntu and Windows.** \n",
    "- `pipenv install` will install all the packages that are required according to pipfile.lock\n",
    "- `pipenv shell` will create the virtual environment with all the required packages\n",
    "- `deactivate` will deactivate the virtual environment and should be followed by `exit`\n",
    "------\n",
    "\n",
    "Below the links to the documentation of the packages used:\n",
    "- [Mesa](https://mesa.readthedocs.io/en/master/)\n",
    "- [Ipynb](https://ipython.org/ipython-doc/1/interactive/notebook.html) \n",
    "- [Axelrod](https://axelrod.readthedocs.io/en/stable/)\n",
    "- [Ipython](https://ipython.readthedocs.io/en/stable/whatsnew/version6.html#ipython-6-2)\n",
    "- [Jupyter_console](https://pypi.org/project/jupyter_console/5.2.0/#history)\n",
    "- [Statsmodel](https://www.statsmodels.org/stable/index.html)\n",
    "- [SALib](https://salib.readthedocs.io/en/latest/) \n",
    "- [Pandas](https://pandas.pydata.org/)\n",
    "- [Numpy](https://pandas.pydata.org/)\n",
    "- [Matplotlib](https://pandas.pydata.org/)\n",
    "------\n",
    "\n",
    "After `pipenv install` has been completed, please run `pipenv shell` before you run `jupyter notebook`. Then ensure you are able to run the code without any errors. You should get the message `Everything installed!`.\n",
    "\n",
    "------\n",
    "\n",
    "**The following is strongly advised:**\n",
    "- Do not install any additional packages or use different variable names, unless specifically mentioned. This might cause the code that is used for checking to breakdown and you bearing the consequences:).\n",
    "- Everytime you start to work on the excercises, make sure you run `pipenv shell` before `jupyter notebook`.\n"
   ]
  },
  {
   "cell_type": "code",
   "execution_count": 1,
   "metadata": {},
   "outputs": [
    {
     "ename": "ModuleNotFoundError",
     "evalue": "No module named 'ipynb'",
     "output_type": "error",
     "traceback": [
      "\u001b[1;31m---------------------------------------------------------------------------\u001b[0m",
      "\u001b[1;31mModuleNotFoundError\u001b[0m                       Traceback (most recent call last)",
      "Cell \u001b[1;32mIn[1], line 3\u001b[0m\n\u001b[0;32m      1\u001b[0m \u001b[38;5;28;01mfrom\u001b[39;00m \u001b[38;5;21;01mIPython\u001b[39;00m\u001b[38;5;21;01m.\u001b[39;00m\u001b[38;5;21;01mdisplay\u001b[39;00m \u001b[38;5;28;01mimport\u001b[39;00m clear_output\n\u001b[0;32m      2\u001b[0m \u001b[38;5;28;01mimport\u001b[39;00m \u001b[38;5;21;01mmesa\u001b[39;00m\n\u001b[1;32m----> 3\u001b[0m \u001b[38;5;28;01mimport\u001b[39;00m \u001b[38;5;21;01mipynb\u001b[39;00m\n\u001b[0;32m      4\u001b[0m \u001b[38;5;28;01mimport\u001b[39;00m \u001b[38;5;21;01maxelrod\u001b[39;00m\n\u001b[0;32m      5\u001b[0m \u001b[38;5;28;01mimport\u001b[39;00m \u001b[38;5;21;01mstatsmodels\u001b[39;00m\n",
      "\u001b[1;31mModuleNotFoundError\u001b[0m: No module named 'ipynb'"
     ]
    }
   ],
   "source": [
    "from IPython.display import clear_output\n",
    "import mesa\n",
    "import ipynb\n",
    "import axelrod\n",
    "import statsmodels\n",
    "import SALib\n",
    "import pandas\n",
    "import numpy\n",
    "import matplotlib\n",
    "clear_output(wait=True)\n",
    "print(\"Everything installed!\")"
   ]
  },
  {
   "cell_type": "code",
   "execution_count": null,
   "metadata": {},
   "outputs": [],
   "source": []
  }
 ],
 "metadata": {
  "kernelspec": {
   "display_name": "Python 3.10.2 64-bit",
   "language": "python",
   "name": "python3"
  },
  "language_info": {
   "codemirror_mode": {
    "name": "ipython",
    "version": 3
   },
   "file_extension": ".py",
   "mimetype": "text/x-python",
   "name": "python",
   "nbconvert_exporter": "python",
   "pygments_lexer": "ipython3",
   "version": "3.10.14"
  },
  "vscode": {
   "interpreter": {
    "hash": "aee8b7b246df8f9039afb4144a1f6fd8d2ca17a180786b69acc140d282b71a49"
   }
  }
 },
 "nbformat": 4,
 "nbformat_minor": 2
}
